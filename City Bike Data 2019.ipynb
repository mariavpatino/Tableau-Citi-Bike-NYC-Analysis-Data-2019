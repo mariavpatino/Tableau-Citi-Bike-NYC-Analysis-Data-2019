{
 "cells": [
  {
   "cell_type": "code",
   "execution_count": 1,
   "metadata": {},
   "outputs": [],
   "source": [
    "import pandas as pd"
   ]
  },
  {
   "cell_type": "code",
   "execution_count": 4,
   "metadata": {},
   "outputs": [],
   "source": [
    "jan = pd.read_csv(\"JC-201901-citibike-tripdata.csv\")\n",
    "feb = pd.read_csv(\"JC-201902-citibike-tripdata.csv\")\n",
    "mar = pd.read_csv(\"JC-201903-citibike-tripdata.csv\")\n",
    "apr = pd.read_csv(\"JC-201904-citibike-tripdata.csv\")\n",
    "may = pd.read_csv(\"JC-201905-citibike-tripdata.csv\")\n",
    "jun = pd.read_csv(\"JC-201906-citibike-tripdata.csv\")\n",
    "jul = pd.read_csv(\"JC-201907-citibike-tripdata.csv\")\n",
    "aug = pd.read_csv(\"JC-201908-citibike-tripdata.csv\")\n",
    "sep = pd.read_csv(\"JC-201909-citibike-tripdata.csv\")\n",
    "oct = pd.read_csv(\"JC-201910-citibike-tripdata.csv\")\n",
    "nov = pd.read_csv(\"JC-201911-citibike-tripdata.csv\")\n",
    "dec = pd.read_csv(\"JC-201912-citibike-tripdata.csv\")"
   ]
  },
  {
   "cell_type": "code",
   "execution_count": 9,
   "metadata": {},
   "outputs": [],
   "source": [
    "janfeb = pd.concat([jan,feb])\n",
    "marapr = pd.concat([mar,apr])\n",
    "mayjun = pd.concat([may,jun])\n",
    "julaug = pd.concat([jul,aug])\n",
    "sepoct = pd.concat([sep,oct])\n",
    "novdec = pd.concat([nov,dec])"
   ]
  },
  {
   "cell_type": "code",
   "execution_count": 11,
   "metadata": {},
   "outputs": [],
   "source": [
    "janfebmarapr = pd.concat([janfeb,marapr])\n",
    "mayjunjulaug = pd.concat([mayjun,julaug])\n",
    "sepoctnovdec = pd.concat([sepoct,novdec])"
   ]
  },
  {
   "cell_type": "code",
   "execution_count": 12,
   "metadata": {},
   "outputs": [],
   "source": [
    "x = pd.concat([janfebmarapr,mayjunjulaug])"
   ]
  },
  {
   "cell_type": "code",
   "execution_count": 13,
   "metadata": {},
   "outputs": [],
   "source": [
    "data2019 = pd.concat([x,sepoctnovdec])"
   ]
  },
  {
   "cell_type": "code",
   "execution_count": 14,
   "metadata": {},
   "outputs": [],
   "source": [
    "data2019.to_csv(\"citybike2019.csv\")"
   ]
  },
  {
   "cell_type": "code",
   "execution_count": null,
   "metadata": {},
   "outputs": [],
   "source": []
  }
 ],
 "metadata": {
  "kernelspec": {
   "display_name": "Python 3",
   "language": "python",
   "name": "python3"
  },
  "language_info": {
   "codemirror_mode": {
    "name": "ipython",
    "version": 3
   },
   "file_extension": ".py",
   "mimetype": "text/x-python",
   "name": "python",
   "nbconvert_exporter": "python",
   "pygments_lexer": "ipython3",
   "version": "3.7.3"
  }
 },
 "nbformat": 4,
 "nbformat_minor": 2
}
